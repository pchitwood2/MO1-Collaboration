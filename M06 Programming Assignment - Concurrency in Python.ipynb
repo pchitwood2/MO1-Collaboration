{
 "cells": [
  {
   "cell_type": "code",
   "execution_count": 3,
   "id": "15b022f4",
   "metadata": {},
   "outputs": [
    {
     "name": "stdout",
     "output_type": "stream",
     "text": [
      "2023-09-26\n"
     ]
    }
   ],
   "source": [
    "#13.1 - 13.3\n",
    "import datetime\n",
    "\n",
    "today = datetime.date.today()\n",
    "today_string = str(today)\n",
    "\n",
    "with open(\"today.txt\", \"w\") as f:\n",
    "    f.write(today_string)\n",
    "\n",
    "with open(\"today.txt\", \"r\") as f:\n",
    "    today_string = f.read()\n",
    "\n",
    "parsed_date = datetime.datetime.strptime(today_string, \"%Y-%m-%d\").date()\n",
    "print(parsed_date)"
   ]
  },
  {
   "cell_type": "code",
   "execution_count": 5,
   "id": "9094b439",
   "metadata": {},
   "outputs": [
    {
     "name": "stdout",
     "output_type": "stream",
     "text": [
      "16:32:$S\n",
      "16:32:$S\n",
      "16:32:$S\n"
     ]
    }
   ],
   "source": [
    "#15.1\n",
    "import multiprocessing as mp\n",
    "import time\n",
    "import random\n",
    "\n",
    "def print_time():\n",
    "    time.sleep(random.random())\n",
    "    print(time.strftime('%H:%M:$S', time.localtime()))\n",
    "    exit()\n",
    "    \n",
    "p1 = mp.Process(target=print_time())\n",
    "p2 = mp.Process(target=print_time())\n",
    "p3 = mp.Process(target=print_time())\n",
    "\n",
    "p1.start()\n",
    "p2.start()\n",
    "p3.start()\n",
    "\n",
    "p1.join()\n",
    "p2.join()\n",
    "p3.join()"
   ]
  },
  {
   "cell_type": "code",
   "execution_count": null,
   "id": "94b627eb",
   "metadata": {},
   "outputs": [],
   "source": []
  }
 ],
 "metadata": {
  "kernelspec": {
   "display_name": "Python 3 (ipykernel)",
   "language": "python",
   "name": "python3"
  },
  "language_info": {
   "codemirror_mode": {
    "name": "ipython",
    "version": 3
   },
   "file_extension": ".py",
   "mimetype": "text/x-python",
   "name": "python",
   "nbconvert_exporter": "python",
   "pygments_lexer": "ipython3",
   "version": "3.11.4"
  }
 },
 "nbformat": 4,
 "nbformat_minor": 5
}
