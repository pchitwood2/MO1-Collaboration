{
 "cells": [
  {
   "cell_type": "code",
   "execution_count": 2,
   "id": "a91ed25a",
   "metadata": {},
   "outputs": [
    {
     "name": "stdout",
     "output_type": "stream",
     "text": [
      "Seconds in an hour: 3600\n"
     ]
    }
   ],
   "source": [
    "'''\n",
    "How many seconds are in an hour? \n",
    "Use the interactive interpreter as a calculator \n",
    "and multiply the number of seconds in a minute (60) \n",
    "by the number of minutes in an hour (also 60).\n",
    "'''\n",
    "\n",
    "secInMin = 60\n",
    "minInHour = 60\n",
    "\n",
    "print(\"Seconds in an hour:\", secInMin * minInHour)"
   ]
  },
  {
   "cell_type": "code",
   "execution_count": 3,
   "id": "b5c36511",
   "metadata": {},
   "outputs": [
    {
     "name": "stdout",
     "output_type": "stream",
     "text": [
      "3600\n"
     ]
    }
   ],
   "source": [
    "'''\n",
    "Assign the result from the previous task (seconds in an hour) \n",
    "to a variable called seconds_per_hour.\n",
    "'''\n",
    "\n",
    "seconds_per_hour = secInMin * minInHour\n",
    "print(seconds_per_hour)"
   ]
  },
  {
   "cell_type": "code",
   "execution_count": 4,
   "id": "a034497f",
   "metadata": {},
   "outputs": [
    {
     "name": "stdout",
     "output_type": "stream",
     "text": [
      "Seconds in a day:  86400\n"
     ]
    }
   ],
   "source": [
    "'''\n",
    "How many seconds are in a day? Use your seconds_per_hour variable.\n",
    "'''\n",
    "\n",
    "print(\"Seconds in a day: \", seconds_per_hour * 24)"
   ]
  },
  {
   "cell_type": "code",
   "execution_count": 5,
   "id": "d81570fc",
   "metadata": {},
   "outputs": [
    {
     "name": "stdout",
     "output_type": "stream",
     "text": [
      "86400\n"
     ]
    }
   ],
   "source": [
    "'''\n",
    "Calculate seconds per day again, \n",
    "but this time save the result in \n",
    "a variable called seconds_per_day.\n",
    "'''\n",
    "\n",
    "seconds_per_day = seconds_per_hour * 24\n",
    "print(seconds_per_day)"
   ]
  },
  {
   "cell_type": "code",
   "execution_count": 3,
   "id": "4d841ad1",
   "metadata": {},
   "outputs": [
    {
     "name": "stdout",
     "output_type": "stream",
     "text": [
      "24.0\n"
     ]
    }
   ],
   "source": [
    "'''\n",
    "Divide seconds_per_day by seconds_per_hour. \n",
    "Use floating-point (/) division.\n",
    "'''\n",
    "\n",
    "secInMin = 60\n",
    "minInHour = 60\n",
    "seconds_per_hour = secInMin * minInHour\n",
    "seconds_per_day = seconds_per_hour * 24\n",
    "\n",
    "fp_div = seconds_per_day / seconds_per_hour\n",
    "print(fp_div)"
   ]
  },
  {
   "cell_type": "code",
   "execution_count": 8,
   "id": "67194739",
   "metadata": {
    "scrolled": true
   },
   "outputs": [
    {
     "name": "stdout",
     "output_type": "stream",
     "text": [
      "24\n"
     ]
    },
    {
     "data": {
      "text/plain": [
       "'\\nRESPONSE\\nThe results agreed besides the final .0. The float value \\nalways includes decimals while int values do not\\ninclude decimals.\\n'"
      ]
     },
     "execution_count": 8,
     "metadata": {},
     "output_type": "execute_result"
    }
   ],
   "source": [
    "'''\n",
    "Divide seconds_per_day by seconds_per_hour, \n",
    "using integer (//) division. \n",
    "Did this number agree with the floating-point \n",
    "value from the previous question, aside \n",
    "from the final .0?\n",
    "'''\n",
    "secInMin = 60\n",
    "minInHour = 60\n",
    "seconds_per_hour = secInMin * minInHour\n",
    "seconds_per_day = seconds_per_hour * 24\n",
    "\n",
    "int_div = seconds_per_day // seconds_per_hour\n",
    "print(int_div)\n",
    "\n",
    "'''\n",
    "RESPONSE\n",
    "The results agreed besides the final .0. The float value \n",
    "always includes decimals while int values do not\n",
    "include decimals.\n",
    "'''"
   ]
  },
  {
   "cell_type": "code",
   "execution_count": null,
   "id": "c3b9447e",
   "metadata": {},
   "outputs": [],
   "source": []
  }
 ],
 "metadata": {
  "kernelspec": {
   "display_name": "Python 3 (ipykernel)",
   "language": "python",
   "name": "python3"
  },
  "language_info": {
   "codemirror_mode": {
    "name": "ipython",
    "version": 3
   },
   "file_extension": ".py",
   "mimetype": "text/x-python",
   "name": "python",
   "nbconvert_exporter": "python",
   "pygments_lexer": "ipython3",
   "version": "3.11.4"
  }
 },
 "nbformat": 4,
 "nbformat_minor": 5
}
